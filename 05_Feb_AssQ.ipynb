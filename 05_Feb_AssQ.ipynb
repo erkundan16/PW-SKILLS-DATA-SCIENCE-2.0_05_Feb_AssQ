{
 "cells": [
  {
   "cell_type": "markdown",
   "id": "8ffdeb73-7176-42b2-b2f4-e8aea31432fd",
   "metadata": {},
   "source": [
    "Q1. Explain Class and Object with respect to Object-Oriented Programming. Give a suitable example."
   ]
  },
  {
   "cell_type": "code",
   "execution_count": 5,
   "id": "34676651-a415-45f3-8681-f956cb49167b",
   "metadata": {},
   "outputs": [],
   "source": [
    "#Class:\n",
    "\"\"\"A class is a blueprint or a template for creating objects. It defines the structure and behavior that objects of that class will have.\n",
    "A class can include attributes (also known as properties or fields) and methods (functions associated with the class).\"\"\"\n",
    "#EX :-\n",
    "\n",
    "class Dog:\n",
    "    # Class attribute\n",
    "    species = \"Canis familiaris\"\n",
    "\n",
    "    # Constructor method (initializer)\n",
    "    def __init__(self, name, age):\n",
    "        self.name = name  # Instance attribute\n",
    "        self.age = age    # Instance attribute\n",
    "\n",
    "    # Instance method\n",
    "    def description(self):\n",
    "        return f\"{self.name} is {self.age} years old.\"\n",
    "\n",
    "    # Another instance method\n",
    "    def speak(self, sound):\n",
    "        return f\"{self.name} says {sound}.\""
   ]
  },
  {
   "cell_type": "code",
   "execution_count": 4,
   "id": "95e3cb8e-abc1-4f71-86c5-2c9af3692b83",
   "metadata": {},
   "outputs": [
    {
     "name": "stdout",
     "output_type": "stream",
     "text": [
      "Buddy\n",
      "Molly is 5 years old.\n",
      "Buddy says Woof!.\n"
     ]
    }
   ],
   "source": [
    "#Object:\n",
    "\"\"\"An object is an instance of a class. It's a concrete, real-world representation created from the class blueprint. Objects have their own\n",
    "unique state (attribute values) and can perform actions (invoke methods) defined by the class. \"\"\"   \n",
    "#EX :-\n",
    "\n",
    "# Creating two Dog objects\n",
    "dog1 = Dog(\"Buddy\", 3)\n",
    "dog2 = Dog(\"Molly\", 5)\n",
    "\n",
    "# Accessing attributes and invoking methods on objects\n",
    "print(dog1.name)               # Output: Buddy\n",
    "print(dog2.description())      # Output: Molly is 5 years old.\n",
    "print(dog1.speak(\"Woof!\"))     # Output: Buddy says Woof!\n"
   ]
  },
  {
   "cell_type": "markdown",
   "id": "418e1c3e-0f07-457e-9c4a-9583a33c0076",
   "metadata": {},
   "source": [
    "Q2. Name the four pillars of OOPs."
   ]
  },
  {
   "cell_type": "markdown",
   "id": "8e796d0e-5a0b-47dc-a491-f0724c74add7",
   "metadata": {},
   "source": [
    "The four pillars of object-oriented programming (OOP) are:\n",
    "    1.Encapsulation\n",
    "    2.Inheritance\n",
    "    3.Polymorphism\n",
    "    4.Abstraction"
   ]
  },
  {
   "cell_type": "markdown",
   "id": "90c3f0f4-661a-461a-925c-97cf78f3991c",
   "metadata": {},
   "source": [
    "Q3. Explain why the __init__() function is used. Give a suitable example."
   ]
  },
  {
   "cell_type": "code",
   "execution_count": 6,
   "id": "37983ceb-94c9-47a3-a979-cd1a7ed0160a",
   "metadata": {},
   "outputs": [
    {
     "name": "stdout",
     "output_type": "stream",
     "text": [
      "My name is Alice and I am 30 years old.\n",
      "My name is Bob and I am 25 years old.\n"
     ]
    }
   ],
   "source": [
    "#Explain why the __init__() function is used.\n",
    "\"\"\"The __init__() function, also known as the constructor, is used in object-oriented programming (OOP) to initialize the attributes or\n",
    "properties of an object when it is created from a class.\"\"\"\n",
    "#EX :-\n",
    "class Person:\n",
    "    def __init__(self, name, age):\n",
    "        self.name = name   # Initialize the 'name' attribute\n",
    "        self.age = age     # Initialize the 'age' attribute\n",
    "\n",
    "    def introduce(self):\n",
    "        return f\"My name is {self.name} and I am {self.age} years old.\"\n",
    "\n",
    "# Creating two Person objects\n",
    "person1 = Person(\"Alice\", 30)\n",
    "person2 = Person(\"Bob\", 25)\n",
    "\n",
    "# Accessing attributes and invoking methods on objects\n",
    "print(person1.introduce())  # Output: My name is Alice and I am 30 years old.\n",
    "print(person2.introduce())  # Output: My name is Bob and I am 25 years old.\n"
   ]
  },
  {
   "cell_type": "markdown",
   "id": "7dcfb18b-1270-451a-9fe0-7f0b97318150",
   "metadata": {},
   "source": [
    "Q4. Why self is used in OOPs?"
   ]
  },
  {
   "cell_type": "markdown",
   "id": "2ef6c7b6-7ac4-4c41-aaac-4ec35f8e046f",
   "metadata": {},
   "source": [
    "self is a convention used to refer to the current instance of a class within its methods. It is not a reserved keyword in Python (unlike some\n",
    "other languages), but it is a common and widely accepted practice to use self as the first parameter in instance methods. The purpose of self \n",
    "is to explicitly reference and manipulate the attributes and methods of the current object, making it clear which object is being acted upon."
   ]
  },
  {
   "cell_type": "markdown",
   "id": "3161e32f-2e1c-4557-b9ea-dc813b7e652b",
   "metadata": {},
   "source": [
    "Q5. What is inheritance? Give an example for each type of inheritance."
   ]
  },
  {
   "cell_type": "code",
   "execution_count": null,
   "id": "cc594b20-b19c-4969-a8a3-6bda17c652da",
   "metadata": {},
   "outputs": [],
   "source": [
    "# What is inheritance?\n",
    "\n",
    "\"\"\"Inheritance is one of the fundamental concepts in object-oriented programming (OOP) that allows a new class (called the subclass or derived \n",
    "class) to inherit properties and behaviors (attributes and methods) from an existing class (called the superclass or base class). \"\"\"\n",
    "#  types of inheritance\n",
    "#   1.Single Inheritance\n",
    "#   2.Multiple Inheritance\n",
    "#   3.Multilevel Inheritance\n",
    "#   4.Hierarchical Inheritance:\n"
   ]
  },
  {
   "cell_type": "code",
   "execution_count": 7,
   "id": "a69f3fcc-ec02-4c3f-bc7c-6801a47da212",
   "metadata": {},
   "outputs": [
    {
     "name": "stdout",
     "output_type": "stream",
     "text": [
      "Woof!\n"
     ]
    }
   ],
   "source": [
    "#   1.Single Inheritance\n",
    "# EX :-\n",
    "class Animal:\n",
    "    def speak(self):\n",
    "        pass\n",
    "\n",
    "class Dog(Animal):\n",
    "    def speak(self):\n",
    "        return \"Woof!\"\n",
    "\n",
    "dog = Dog()\n",
    "print(dog.speak())  # Output: \"Woof!\"\n"
   ]
  },
  {
   "cell_type": "code",
   "execution_count": 8,
   "id": "0bb58849-fe33-4fb6-b869-0db5172558c0",
   "metadata": {},
   "outputs": [
    {
     "name": "stdout",
     "output_type": "stream",
     "text": [
      "I can fly!\n",
      "I can swim!\n"
     ]
    }
   ],
   "source": [
    "#   2.Multiple Inheritance\n",
    "# EX :-\n",
    "class Flyable:\n",
    "    def fly(self):\n",
    "        return \"I can fly!\"\n",
    "\n",
    "class Swimmer:\n",
    "    def swim(self):\n",
    "        return \"I can swim!\"\n",
    "\n",
    "class Amphibian(Flyable, Swimmer):\n",
    "    pass\n",
    "\n",
    "frog = Amphibian()\n",
    "print(frog.fly())   # Output: \"I can fly!\"\n",
    "print(frog.swim())  # Output: \"I can swim!\"\n"
   ]
  },
  {
   "cell_type": "code",
   "execution_count": 9,
   "id": "7fed8038-e2a1-4fe2-a4a2-16cc930473b7",
   "metadata": {},
   "outputs": [
    {
     "name": "stdout",
     "output_type": "stream",
     "text": [
      "Engine started.\n",
      "Car is moving.\n",
      "Sports car is racing.\n"
     ]
    }
   ],
   "source": [
    "#   3.Multilevel Inheritance\n",
    "# EX :-\n",
    "class Vehicle:\n",
    "    def start(self):\n",
    "        return \"Engine started.\"\n",
    "\n",
    "class Car(Vehicle):\n",
    "    def drive(self):\n",
    "        return \"Car is moving.\"\n",
    "\n",
    "class SportsCar(Car):\n",
    "    def race(self):\n",
    "        return \"Sports car is racing.\"\n",
    "\n",
    "sports_car = SportsCar()\n",
    "print(sports_car.start())  # Output: \"Engine started.\"\n",
    "print(sports_car.drive())  # Output: \"Car is moving.\"\n",
    "print(sports_car.race())   # Output: \"Sports car is racing.\"\n"
   ]
  },
  {
   "cell_type": "code",
   "execution_count": 10,
   "id": "2a36450e-2696-4b23-8edc-944a0d903a98",
   "metadata": {},
   "outputs": [
    {
     "name": "stdout",
     "output_type": "stream",
     "text": [
      "78.5\n",
      "16\n"
     ]
    }
   ],
   "source": [
    "#   4.Hierarchical Inheritance\n",
    "\n",
    "# EX :-\n",
    "class Shape:\n",
    "    def area(self):\n",
    "        pass\n",
    "\n",
    "class Circle(Shape):\n",
    "    def area(self):\n",
    "        return 3.14 * self.radius ** 2\n",
    "\n",
    "class Square(Shape):\n",
    "    def area(self):\n",
    "        return self.side_length ** 2\n",
    "\n",
    "circle = Circle()\n",
    "circle.radius = 5\n",
    "print(circle.area())  # Output: 78.5\n",
    "\n",
    "square = Square()\n",
    "square.side_length = 4\n",
    "print(square.area())  # Output: 16\n"
   ]
  },
  {
   "cell_type": "code",
   "execution_count": null,
   "id": "b65ce049-bbb0-4d52-a506-52bb08e2dfea",
   "metadata": {},
   "outputs": [],
   "source": []
  }
 ],
 "metadata": {
  "kernelspec": {
   "display_name": "Python 3 (ipykernel)",
   "language": "python",
   "name": "python3"
  },
  "language_info": {
   "codemirror_mode": {
    "name": "ipython",
    "version": 3
   },
   "file_extension": ".py",
   "mimetype": "text/x-python",
   "name": "python",
   "nbconvert_exporter": "python",
   "pygments_lexer": "ipython3",
   "version": "3.10.8"
  }
 },
 "nbformat": 4,
 "nbformat_minor": 5
}
